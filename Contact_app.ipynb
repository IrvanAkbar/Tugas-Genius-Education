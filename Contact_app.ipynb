{
 "cells": [
  {
   "cell_type": "markdown",
   "id": "2a76529e",
   "metadata": {},
   "source": [
    "Create"
   ]
  },
  {
   "cell_type": "code",
   "execution_count": 1,
   "id": "c5e5a72a",
   "metadata": {},
   "outputs": [],
   "source": [
    "def tambah_kontak():\n",
    "    print('')\n",
    "    banyakKontak = int(input('Masukan banyak kontak: '))\n",
    "    for i in range(banyakKontak):\n",
    "        print('Masukan kontak ke-',i+1)\n",
    "        namaKontak = input('Nama\\t: ')\n",
    "        nomorKontak = int(input('Nomor\\t: '))\n",
    "        kontakBaru = Kontak(namakontak, nomorKontak)\n",
    "        kontak.append(kontakBaru)\n",
    "        print('')\n",
    "    print('Kontak berhasil ditambahkan!\\n')"
   ]
  },
  {
   "cell_type": "markdown",
   "id": "b586d21d",
   "metadata": {},
   "source": [
    "Read"
   ]
  },
  {
   "cell_type": "code",
   "execution_count": 2,
   "id": "93f02d12",
   "metadata": {},
   "outputs": [],
   "source": [
    "def daftar_kontak():\n",
    "    print('')\n",
    "    if (len(kontak)==0):\n",
    "        print('Kontak Masih Kosong, silahkan menambahkan kontak!')\n",
    "        print('')\n",
    "    else:\n",
    "        i = 1\n",
    "        print('|No.\\t|Nama\\t\\t|Nomor Ponsel\\t')\n",
    "        for j in kontak:\n",
    "            print(f'|{i}.\\t|{j.nama}\\t\\t|{j.nomor}\\t|')\n",
    "            i+=1\n",
    "        print('')"
   ]
  },
  {
   "cell_type": "markdown",
   "id": "3a87e5e4",
   "metadata": {},
   "source": [
    "Update"
   ]
  },
  {
   "cell_type": "code",
   "execution_count": 4,
   "id": "341b8c1d",
   "metadata": {},
   "outputs": [],
   "source": [
    "def edit_kontak():\n",
    "    print('')\n",
    "    if(len(kontak)==0):\n",
    "        print('Kontak Masih Kosong, silahkan menambahkan kontak!')\n",
    "        print('')\n",
    "    else:\n",
    "        edit = int(input('Masukan Nomor Urut Kontak: '))\n",
    "        namaKontak = input('Nama\\t: ')\n",
    "        nomorKontak = int(input('Nomor\\t: '))\n",
    "        kontakBaru = Kontak(namaKontak, nomorKontak)\n",
    "        kontak[edit-1] = kontakBaru\n",
    "        print('')\n",
    "        print(f'Kontak dengan urutan ke-{edit}, Berhasil di edit!\\n')"
   ]
  },
  {
   "cell_type": "markdown",
   "id": "5fcd299a",
   "metadata": {},
   "source": [
    "Delete"
   ]
  },
  {
   "cell_type": "code",
   "execution_count": 6,
   "id": "ee0ec1de",
   "metadata": {},
   "outputs": [],
   "source": [
    "def hapus_kontak():\n",
    "    print('')\n",
    "    if(len(kontak)==0):\n",
    "        print('Kontak Masih Kosong, silahkan menambahkan kontak!')\n",
    "        print('')\n",
    "    else:\n",
    "        hapus = int(input('Masukan Nomor Urut Kontak: '))\n",
    "        del kontak[hapus-1]\n",
    "        print('')\n",
    "        print(f'Kontak dengan urutan ke-{hapus}, Berhasil di hapus!\\n')"
   ]
  },
  {
   "cell_type": "markdown",
   "id": "85207f8e",
   "metadata": {},
   "source": [
    "Search"
   ]
  },
  {
   "cell_type": "code",
   "execution_count": 8,
   "id": "6218d92e",
   "metadata": {},
   "outputs": [],
   "source": [
    "def cari_kontak():\n",
    "    print('')\n",
    "    if(len(kontak)==0):\n",
    "        print('Kontak Masih Kosong, silahkan menambahkan kontak!')\n",
    "        print('')\n",
    "    else:\n",
    "        found_kontak = []\n",
    "        cari = input('Mencari berdasarkan apa? (nama/nomor): ')\n",
    "        if(cari.lower() == \"nama\"):\n",
    "            nama = input('Masukan nama kontak: ')\n",
    "            for i in kontak:\n",
    "                if(i.nama.lower() == nama.lower()):\n",
    "                    found_kontak.append(i)\n",
    "            if(len(found_kontak) == 0):\n",
    "                print(\"Tidak ditemukan kontak\")\n",
    "            else:\n",
    "                print(\"Berikut hasil kontak berdasarkan nama:\")\n",
    "                print('')\n",
    "                print('|No.\\t|Nama\\t\\t|Nomor Ponsel\\t')\n",
    "                i=1\n",
    "                for j in found_kontak:\n",
    "                    print(f'|{i}.\\t|{j.nama}\\t\\t|{j.nomor}\\t|')\n",
    "                    i+=1\n",
    "                print('')\n",
    "        elif(cari.lower() == \"nomor\"):\n",
    "            nomor = input('Masukkan nomor kontak: ')\n",
    "            for i in range(0,len(kontak)):\n",
    "                if(kontak[i].nomor == int(nomor)):\n",
    "                    found_kontak.append(kontak[i])\n",
    "            if(len(found_kontak) == 0):\n",
    "                print(\"Tidak ditemukan kontak\")\n",
    "            else:\n",
    "                print(\"Berikut hasil kontak berdasarkan nomor:\")\n",
    "                print('')\n",
    "                print('|No.\\t|Nama\\t\\t|Nomor Ponsel\\t|')\n",
    "                i=1\n",
    "                for j in found_kontak:\n",
    "                     print(f'|{i}.\\t|{j.nama}\\t\\t|{j.nomor}\\t|')\n",
    "                     i+=1\n",
    "                     print('')\n",
    "        else:\n",
    "            print('Tidak dapat mencari diluar kategori tersebut')"
   ]
  },
  {
   "cell_type": "code",
   "execution_count": null,
   "id": "59058977",
   "metadata": {},
   "outputs": [
    {
     "name": "stdout",
     "output_type": "stream",
     "text": [
      "Selamat Datang\n",
      "---Menu---\n",
      "\n",
      "1. Daftar Kontak\n",
      "2. Tambah Kontak\n",
      "3. Edit Kontak\n",
      "4. Hapus Kontak\n",
      "5. Cari Kontak\n",
      "6. Keluar\n",
      "\n",
      "Pilih Menu: 2\n",
      "\n"
     ]
    }
   ],
   "source": [
    "class Kontak(object):\n",
    "    def __init__(self, nama, nomor):\n",
    "        self.nama = nama\n",
    "        self.nomor = nomor\n",
    "\n",
    "\n",
    "\n",
    "kontak = []\n",
    "\n",
    "def main():\n",
    "    print(\"Selamat Datang\")\n",
    "    while True:\n",
    "        print('---Menu---\\n')\n",
    "        print('1. Daftar Kontak')\n",
    "        print('2. Tambah Kontak')\n",
    "        print('3. Edit Kontak')\n",
    "        print('4. Hapus Kontak')\n",
    "        print('5. Cari Kontak')\n",
    "        print('6. Keluar')\n",
    "        menu = input('\\nPilih Menu: ')\n",
    "        if menu == '1':\n",
    "            daftar_kontak()\n",
    "        elif menu == '2':\n",
    "            tambah_kontak()\n",
    "        elif menu == '3':\n",
    "            edit_kontak()\n",
    "        elif menu == '4':\n",
    "            hapus_kontak()\n",
    "        elif menu == '5':\n",
    "            cari_kontak\n",
    "        elif menu == '6':\n",
    "            print('Program selesai, sampai jumpa!')\n",
    "            break\n",
    "        else:\n",
    "            print('Menu tidak tersedia!\\n')\n",
    "        \n",
    "if __name__ == '__main__':\n",
    "    main()"
   ]
  },
  {
   "cell_type": "code",
   "execution_count": null,
   "id": "07f30b30",
   "metadata": {},
   "outputs": [],
   "source": []
  }
 ],
 "metadata": {
  "kernelspec": {
   "display_name": "Python 3 (ipykernel)",
   "language": "python",
   "name": "python3"
  },
  "language_info": {
   "codemirror_mode": {
    "name": "ipython",
    "version": 3
   },
   "file_extension": ".py",
   "mimetype": "text/x-python",
   "name": "python",
   "nbconvert_exporter": "python",
   "pygments_lexer": "ipython3",
   "version": "3.9.12"
  }
 },
 "nbformat": 4,
 "nbformat_minor": 5
}
