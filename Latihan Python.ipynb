{
 "cells": [
  {
   "cell_type": "markdown",
   "id": "561c84fa",
   "metadata": {},
   "source": [
    "# Project: Aplikasi \"Kontak\""
   ]
  },
  {
   "cell_type": "markdown",
   "id": "51c07c0a",
   "metadata": {},
   "source": [
    "## Tantangan Tugas"
   ]
  },
  {
   "cell_type": "markdown",
   "id": "2452cfe9",
   "metadata": {},
   "source": [
    "1. a. Fungsi sapaan dengan kompinasi print \n",
    "   b. Fungsi hitung Luas segitiga t= 7, a= 5"
   ]
  },
  {
   "cell_type": "code",
   "execution_count": 1,
   "id": "44df23c3",
   "metadata": {},
   "outputs": [],
   "source": [
    "def my_function():\n",
    "    print (\"Perkenalkan nama saya Irvan Akbar, Salam kenal\")"
   ]
  },
  {
   "cell_type": "code",
   "execution_count": 2,
   "id": "7ee6ffcc",
   "metadata": {},
   "outputs": [
    {
     "name": "stdout",
     "output_type": "stream",
     "text": [
      "Perkenalkan nama saya Irvan Akbar, Salam kenal\n"
     ]
    }
   ],
   "source": [
    "my_function()"
   ]
  },
  {
   "cell_type": "code",
   "execution_count": 3,
   "id": "6252d393",
   "metadata": {},
   "outputs": [],
   "source": [
    "def luas_segitiga():\n",
    "    tinggi=7\n",
    "    alas=5\n",
    "    luas=(alas*tinggi)/2\n",
    "    print(\"Luas segitiga adalah\", luas)"
   ]
  },
  {
   "cell_type": "code",
   "execution_count": 4,
   "id": "2fa7274d",
   "metadata": {},
   "outputs": [
    {
     "name": "stdout",
     "output_type": "stream",
     "text": [
      "Luas segitiga adalah 17.5\n"
     ]
    }
   ],
   "source": [
    "luas_segitiga()"
   ]
  },
  {
   "cell_type": "markdown",
   "id": "afc041a1",
   "metadata": {},
   "source": [
    "2. Mencoba perintah import sederhana"
   ]
  },
  {
   "cell_type": "code",
   "execution_count": 1,
   "id": "e4b9830e",
   "metadata": {},
   "outputs": [],
   "source": [
    "import csv\n",
    "import pandas\n",
    "import numpy"
   ]
  },
  {
   "cell_type": "markdown",
   "id": "06771b90",
   "metadata": {},
   "source": [
    "3. silahkan jalankan program di kamu"
   ]
  },
  {
   "cell_type": "code",
   "execution_count": 20,
   "id": "3464578d",
   "metadata": {},
   "outputs": [
    {
     "name": "stdout",
     "output_type": "stream",
     "text": [
      "Lingkaran dengan jari-jari{14} memiliki keliling{} 87.92\n"
     ]
    }
   ],
   "source": [
    "def keliling_lingkaran(radius):\n",
    "    keliling = 2 * 3.14 * radius\n",
    "    return keliling\n",
    "\n",
    "r = 14\n",
    "kel = keliling_lingkaran(14)\n",
    "print(\"Lingkaran dengan jari-jari{14} memiliki keliling{}\", kel)"
   ]
  },
  {
   "cell_type": "markdown",
   "id": "33cafe54",
   "metadata": {},
   "source": [
    "4. Mencoba angka yang dimasukkan ganjil atau genap"
   ]
  },
  {
   "cell_type": "code",
   "execution_count": 26,
   "id": "c1833929",
   "metadata": {},
   "outputs": [
    {
     "name": "stdout",
     "output_type": "stream",
     "text": [
      "masukkan nilai = 4\n",
      "hasilnya adalah 6\n"
     ]
    }
   ],
   "source": [
    "def ceknilai(nilai):\n",
    "    if nilai % 2 == 0:\n",
    "        nilai += 2\n",
    "    else:\n",
    "        nilai *= 2\n",
    "        \n",
    "    return nilai\n",
    "\n",
    "angka = input(\"masukkan nilai = \")\n",
    "hasil = ceknilai(int(angka))\n",
    "\n",
    "print(\"hasilnya adalah\", hasil)"
   ]
  },
  {
   "cell_type": "code",
   "execution_count": 27,
   "id": "cae833e4",
   "metadata": {},
   "outputs": [
    {
     "name": "stdout",
     "output_type": "stream",
     "text": [
      "masukkan nilai = 5\n",
      "hasilnya adalah 10\n"
     ]
    }
   ],
   "source": [
    "def ceknilai(nilai):\n",
    "    if nilai % 2 == 0:\n",
    "        nilai += 2\n",
    "    else:\n",
    "        nilai *= 2\n",
    "        \n",
    "    return nilai\n",
    "\n",
    "angka = input(\"masukkan nilai = \")\n",
    "hasil = ceknilai(int(angka))\n",
    "\n",
    "print(\"hasilnya adalah\", hasil)"
   ]
  }
 ],
 "metadata": {
  "kernelspec": {
   "display_name": "Python 3 (ipykernel)",
   "language": "python",
   "name": "python3"
  },
  "language_info": {
   "codemirror_mode": {
    "name": "ipython",
    "version": 3
   },
   "file_extension": ".py",
   "mimetype": "text/x-python",
   "name": "python",
   "nbconvert_exporter": "python",
   "pygments_lexer": "ipython3",
   "version": "3.9.12"
  }
 },
 "nbformat": 4,
 "nbformat_minor": 5
}
