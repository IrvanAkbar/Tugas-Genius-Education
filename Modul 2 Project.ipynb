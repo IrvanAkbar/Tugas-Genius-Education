{
 "cells": [
  {
   "cell_type": "markdown",
   "id": "c73c98e6",
   "metadata": {},
   "source": [
    "## Posisi Tengah Terbaik"
   ]
  },
  {
   "cell_type": "code",
   "execution_count": 5,
   "id": "4823e9b0",
   "metadata": {},
   "outputs": [],
   "source": [
    "list_of_nums=[13, 13, 13, 13, 14, 14, 16, 18]"
   ]
  },
  {
   "cell_type": "code",
   "execution_count": 9,
   "id": "0909cff4",
   "metadata": {},
   "outputs": [
    {
     "name": "stdout",
     "output_type": "stream",
     "text": [
      "13.5\n"
     ]
    }
   ],
   "source": [
    "def mean(list_of_nums):\n",
    "    total=0\n",
    "    for num in list_of_nums:\n",
    "        total=total+num\n",
    "    return total / len(list_of_nums)\n",
    "\n",
    "def median(list_of_nums):\n",
    "    list_of_nums.sort()\n",
    "    if len(list_of_nums) % 2 !=0:\n",
    "        middle_index=int((len(list_of_nums) - 1) / 2)\n",
    "        return list_of_nums[middle_index]\n",
    "    elif len(list_of_nums) % 2 == 0:\n",
    "        middle_index_1=int(len(list_of_nums) / 2)\n",
    "        middle_index_2=int(len(list_of_nums) / 2) - 1\n",
    "        return mean([list_of_nums[middle_index_1], list_of_nums[middle_index_2]])\n",
    "\n",
    "print(median([13, 13, 13, 13, 14, 14, 16, 18]))"
   ]
  },
  {
   "cell_type": "code",
   "execution_count": 12,
   "id": "feb9dece",
   "metadata": {},
   "outputs": [
    {
     "name": "stdout",
     "output_type": "stream",
     "text": [
      "Masukkan Bilangan = 2\n",
      "Masukkan Bilangan = 3\n",
      "Masukkan Bilangan = 4\n",
      "Masukkan Bilangan = 1\n",
      "Masukkan Bilangan = 5\n",
      "Masukkan Bilangan = 7\n",
      "Masukkan Bilangan = 9\n",
      "Masukkan Bilangan = 10\n",
      "Masukkan Bilangan = 4\n",
      "Masukkan Bilangan = 8\n",
      "Data sebelum diurutkan =  [2, 3, 4, 1, 5, 7, 9, 10, 4, 8]\n",
      "Data setelah diurutkan =  [1, 2, 3, 4, 4, 5, 7, 8, 9, 10]\n",
      "Mediannya adalah =  4 dan  5\n",
      "Hasilnya adalah =  4.5\n"
     ]
    }
   ],
   "source": [
    "def sorting(data):\n",
    "    for g in range(len(data)):\n",
    "        for h in range(g+1,len(data)):\n",
    "            if data[g]>data[h]:\n",
    "                change=data[g]\n",
    "                data[g]=data[h]\n",
    "                data[h]=change\n",
    "                \n",
    "data=[]\n",
    "\n",
    "for i in range(10):\n",
    "    p=int(input('Masukkan Bilangan = '))\n",
    "    data.append(p)\n",
    "print(\"Data sebelum diurutkan = \",data)\n",
    "sorting(data)\n",
    "print(\"Data setelah diurutkan = \", data)\n",
    "print(\"Mediannya adalah = \",data[4], 'dan ',data[5])\n",
    "median=(data[4]+data[5])/2\n",
    "print('Hasilnya adalah = ',float(median))"
   ]
  },
  {
   "cell_type": "code",
   "execution_count": 13,
   "id": "1ff9d882",
   "metadata": {},
   "outputs": [
    {
     "name": "stdout",
     "output_type": "stream",
     "text": [
      "Masukkan Bilangan= 9\n",
      "Masukkan Bilangan= 1\n",
      "Masukkan Bilangan= 2\n",
      "Masukkan Bilangan= 6\n",
      "Masukkan Bilangan= 7\n",
      "Masukkan Bilangan= 4\n",
      "Masukkan Bilangan= 3\n",
      "Masukkan Bilangan= 8\n",
      "Masukkan Bilangan= 10\n",
      "Masukkan Bilangan= 24\n",
      "Data=  [1, 2, 3, 4, 6, 7, 8, 9, 10, 24]\n",
      "Indeks median adalah=  6 dan 7\n",
      "Hasil median adalah=  6.5\n"
     ]
    }
   ],
   "source": [
    "data=[]\n",
    "for i in range(10):\n",
    "    inputan=int(input('Masukkan Bilangan= '))\n",
    "    data.append(inputan)\n",
    "\n",
    "list.sort(data)\n",
    "\n",
    "print('Data= ', data)\n",
    "print('Indeks median adalah= ', data[4], 'dan', data[5])\n",
    "hasil=(data[4]+data[5])/2\n",
    "print('Hasil median adalah= ',float(hasil))"
   ]
  },
  {
   "cell_type": "markdown",
   "id": "89015e5a",
   "metadata": {},
   "source": [
    "### "
   ]
  }
 ],
 "metadata": {
  "kernelspec": {
   "display_name": "Python 3 (ipykernel)",
   "language": "python",
   "name": "python3"
  },
  "language_info": {
   "codemirror_mode": {
    "name": "ipython",
    "version": 3
   },
   "file_extension": ".py",
   "mimetype": "text/x-python",
   "name": "python",
   "nbconvert_exporter": "python",
   "pygments_lexer": "ipython3",
   "version": "3.9.12"
  }
 },
 "nbformat": 4,
 "nbformat_minor": 5
}
