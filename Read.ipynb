{
 "cells": [
  {
   "cell_type": "code",
   "execution_count": null,
   "id": "ef583339",
   "metadata": {},
   "outputs": [],
   "source": []
  },
  {
   "cell_type": "code",
   "execution_count": 6,
   "id": "15f799c2",
   "metadata": {},
   "outputs": [],
   "source": [
    "def daftar_kontak():\n",
    "    print('')\n",
    "    if (len(kontak)==0):\n",
    "        print('Kontak Masih Kosong, silahkan menambahkan kontak!')\n",
    "        print('')\n",
    "    else:\n",
    "        i = 1\n",
    "        print('|No.\\t|Nama\\t\\t|Nomor Ponsel\\t')\n",
    "        for j in kontak:\n",
    "            print(f'|{i}.\\t|{j.nama}\\t\\t|{j.nomor}\\t|')\n",
    "            i+=1\n",
    "        print('')"
   ]
  },
  {
   "cell_type": "code",
   "execution_count": null,
   "id": "4eb3c02b",
   "metadata": {},
   "outputs": [],
   "source": []
  }
 ],
 "metadata": {
  "kernelspec": {
   "display_name": "Python 3 (ipykernel)",
   "language": "python",
   "name": "python3"
  },
  "language_info": {
   "codemirror_mode": {
    "name": "ipython",
    "version": 3
   },
   "file_extension": ".py",
   "mimetype": "text/x-python",
   "name": "python",
   "nbconvert_exporter": "python",
   "pygments_lexer": "ipython3",
   "version": "3.9.12"
  }
 },
 "nbformat": 4,
 "nbformat_minor": 5
}
